{
 "cells": [
  {
   "cell_type": "markdown",
   "id": "8f529044-69ad-4377-8c8a-de8c10f87ab7",
   "metadata": {},
   "source": [
    "<p style=\"text-align:center\">\n",
    "    <a href=\"https://skills.network\" target=\"_blank\">\n",
    "    <img src=\"https://cf-courses-data.s3.us.cloud-object-storage.appdomain.cloud/assets/logos/SN_web_lightmode.png\" width=\"200\" alt=\"Skills Network Logo\"  />\n",
    "    </a>\n",
    "</p>\n"
   ]
  },
  {
   "cell_type": "markdown",
   "id": "68d7aaa4-6dab-4a7d-ae4e-0940b6277576",
   "metadata": {},
   "source": [
    "# Build a Multi-Agent Chatbot with AG2 (AutoGen) for Healthcare\n"
   ]
  },
  {
   "cell_type": "markdown",
   "id": "7c79b9f2-666b-4125-8715-fb1da30c7e42",
   "metadata": {},
   "source": [
    "Estimated time needed: **30** minutes\n"
   ]
  },
  {
   "cell_type": "markdown",
   "id": "b2520af1-fe35-4639-b9c7-6a61cd59068e",
   "metadata": {},
   "source": [
    "AutoMed is not just an ordinary chatbot—it’s a multi-agent AI system powered by AG2 (AutoGen), designed to simulate expert medical consultation through intelligent collaboration. Instead of relying on a single AI agent, AutoMed orchestrates multiple specialized agents, each dedicated to a specific task, ensuring comprehensive, accurate, and real-time medical guidance. By leveraging AutoGen’s multi-agent capabilities, AutoMed mimics the behavior of a real medical team, where different AI agents collaborate to analyze symptoms, suggest treatments, fetch real-time medical data, and provide follow-up care.\n",
    "\n",
    "With its adaptive intelligence and multi-agent communication, AutoMed delivers human-like, context-aware conversations that go beyond basic symptom checkers. Unlike conventional AI chatbots that provide one-size-fits-all responses, AutoMed's specialized agents work together to deliver precise, tailored recommendations based on the user’s health history and real-time input. This results in a more interactive, intelligent, and reliable medical consultation experience.\n",
    "\n",
    "<p style=\"color:red;\"> Disclaimer: This guided project is designed to introduce learners to AG2 (AutoGen). The medical advice provided should not be considered a substitute for professional medical consultation, diagnosis, or treatment. Always seek guidance from a qualified healthcare professional.</p>\n"
   ]
  },
  {
   "cell_type": "markdown",
   "id": "fa8c09b5-68f6-4772-ba65-a53b8f926908",
   "metadata": {},
   "source": [
    "## __Table of Contents__\n",
    "\n",
    "<ol>\n",
    "    <li><a href=\"#Objectives\">Objectives</a></li>\n",
    "    <li>\n",
    "        <a href=\"#Setup\">Setup</a>\n",
    "        <ol>\n",
    "            <li><a href=\"#Installing-Required-Libraries\">Installing Required Libraries</a></li>\n",
    "            <li><a href=\"#Importing-Required-Libraries\">Importing Required Libraries</a></li>\n",
    "        </ol>\n",
    "    </li>\n",
    "    <li><a href=\"#What-is-AutoGen?\">What is AutoGen?</a></li>\n",
    "    <li><a href=\"#Key-Features-of-AutoGen\">Key Features of AutoGen</a></li>\n",
    "    <li><a href=\"#Comparison:-AutoGen-vs-Traditional-AI-Agents\">Comparison: AutoGen vs Traditional AI Agents</a></li>\n",
    "    <li><a href=\"#How-AutoMed-Works:-Multi-Agent-AI-in-Action\">How AutoMed Works: Multi-Agent AI in Action</a></li>\n",
    "    <li><a href=\"#Why-is-GPT-4o-Used?\">Why is GPT-4o Used?</a></li>\n",
    "    <li><a href=\"#What-is--ConversableAgent?\">What is ConversableAgent?</a></li>\n",
    "    <li><a href=\"#What-is-GroupChat?\">What is GroupChat?</a></li>\n",
    "    <li><a href=\"#Exercise:-Create-a-Mental-Health-Chatbot-Using-the-AutoGen-Library\">Exercise: Create a Mental Health Chatbot Using the AutoGen Library</a></li>\n",
    "</ol>\n",
    "\n",
    "<ul>\n",
    "    <li><a href=\"#Authors\">Authors</a></li>\n",
    "    <li><a href=\"#Other-Contributors\">Contributors</a></li>\n",
    "    <li><a href=\"#Change-Log\">Change Log</a></li>\n",
    "</ul>\n",
    "\n",
    "\n"
   ]
  },
  {
   "cell_type": "markdown",
   "id": "da079af0-325a-45cc-919c-6b87fc73844e",
   "metadata": {},
   "source": [
    "## Objectives\n",
    "\n",
    "After completing this lab you will be able to:\n",
    "\n",
    "- Learn how AG2 (AutoGen) enables multi-agent AI systems for complex workflows.\n",
    "- Explore how AG2 (AutoGen) integrates with LLMs like GPT-4 for dynamic AI-driven conversations.\n",
    "- Implement agent-to-agent communication for intelligent medical decision-making.\n",
    "- Develop multiple AI agents that interact and collaborate to handle different healthcare tasks.\n"
   ]
  },
  {
   "cell_type": "markdown",
   "id": "d1fe0529-a634-4a04-9163-4b6c40959c8f",
   "metadata": {},
   "source": [
    "----\n"
   ]
  },
  {
   "cell_type": "markdown",
   "id": "44038749-26e3-4a67-a067-a0e919ff9c3b",
   "metadata": {},
   "source": [
    "## Setup\n"
   ]
  },
  {
   "cell_type": "markdown",
   "id": "4e334e6d-1752-40d0-9431-82a4973ec59c",
   "metadata": {},
   "source": [
    "For this lab, we will be using the following libraries:\n",
    "\n",
    "*   [`AG2 (AutoGen)`](https://microsoft.github.io/autogen/0.2/docs/installation/) for orchestrating multi-agent AI interactions and automating LLM-based workflows.  \n",
    "*   [`OpenAI`](https://platform.openai.com/docs/?utm_medium=Exinfluencer&utm_source=Exinfluencer&utm_content=000026UJ&utm_term=10006555&utm_id=NA-SkillsNetwork-Channel-SkillsNetworkCoursesIBMML0187ENSkillsNetwork31430127-2021-01-01) for integrating OpenAI's large language models (LLMs) into our AI workflows.  \n",
    "*   [`python-dotenv`](https://pypi.org/project/python-dotenv/?utm_medium=Exinfluencer&utm_source=Exinfluencer&utm_content=000026UJ&utm_term=10006555&utm_id=NA-SkillsNetwork-Channel-SkillsNetworkCoursesIBMML0187ENSkillsNetwork31430127-2021-01-01) for managing environment variables and securely loading API keys and configurations.  \n"
   ]
  },
  {
   "cell_type": "markdown",
   "id": "2e08c565-e28c-41b6-b1c0-aa1f3e4881f3",
   "metadata": {},
   "source": [
    "### Installing Required Libraries\n",
    "\n",
    "The following required libraries are __not__ pre-installed in the Skills Network Labs environment. __You must run the following cell__ to install them. This step could take **several minutes**; please be patient:\n",
    "\n",
    "<img src=\"https://cf-courses-data.s3.us.cloud-object-storage.appdomain.cloud/crvBKBOkg9aBzXZiwGEXbw/Restarting-the-Kernel.png\" width=\"50%\" alt=\"Restart kernel\">\n",
    "\n",
    "**NOTE**: If you encounter any issues, restart the kernel and run it again by clicking the **Restart the kernel** icon.\n",
    "\n"
   ]
  },
  {
   "cell_type": "code",
   "execution_count": null,
   "id": "8750de46-3646-4ffb-aef5-bbee81ae8de8",
   "metadata": {},
   "outputs": [],
   "source": [
    "!pip install autogen==0.7 openai==1.64.0 python-dotenv==1.1.0 | tail -n 1"
   ]
  },
  {
   "cell_type": "markdown",
   "id": "4d26eb0d-bf60-43b8-99a3-f148e5e2dc8f",
   "metadata": {},
   "source": [
    "### Importing Required Libraries\n",
    "Import all required libraries:\n"
   ]
  },
  {
   "cell_type": "code",
   "execution_count": null,
   "id": "621dc219-8d5d-4eef-85e3-ab63cd23b7ed",
   "metadata": {},
   "outputs": [],
   "source": [
    "import warnings\n",
    "\n",
    "# Suppress autogen and other deprecation/user warnings\n",
    "warnings.filterwarnings(\"ignore\", category=DeprecationWarning)\n",
    "warnings.filterwarnings('ignore', category=UserWarning)\n",
    "\n",
    "from autogen import ConversableAgent, GroupChat, GroupChatManager\n",
    "from openai import OpenAI\n",
    "import logging"
   ]
  },
  {
   "cell_type": "code",
   "execution_count": null,
   "id": "47d79762-be6f-484f-b85a-797c3013511f",
   "metadata": {},
   "outputs": [],
   "source": [
    "# Suppress warnings from autogen.oai.client\n",
    "logging.getLogger(\"autogen.oai.client\").setLevel(logging.ERROR)\n"
   ]
  },
  {
   "cell_type": "markdown",
   "id": "be37455d-9a78-4d4f-87cd-e9dc0d57ec87",
   "metadata": {},
   "source": [
    "# What is AutoGen?\n",
    "\n",
    "AutoGen is an open-source framework developed by Microsoft that enables developers to orchestrate and optimize AI workflows using multiple AI agents. These agents can collaborate, automate decision-making, and dynamically generate responses in complex problem-solving tasks.\n",
    "\n",
    "Unlike traditional AI systems that work in isolation, AutoGen enables multiple AI agents (LLMs such as GPT) to interact, exchange information, and refine their outputs, making it more powerful and flexible for various applications.\n",
    "\n",
    "# Key Features of AutoGen\n",
    "### 1. Multi-Agent Collaboration\n",
    "\n",
    "AutoGen allows multiple AI agents to communicate and solve tasks collaboratively. Each agent can have a specific role, such as a problem solver, verifier, or optimizer.\n",
    "\n",
    "Example:\n",
    "\n",
    "- One agent generates code, another reviews it, and another tests it.\n",
    "- A research agent collects information, while another summarizes it.\n",
    "\n",
    "### 2. Conversational and Task-Oriented AI\n",
    "\n",
    "AutoGen supports LLM-driven conversations where AI agents engage in multi-turn dialogues to refine answers.\n",
    "\n",
    "Example:\n",
    "\n",
    "- A chatbot that consults different AI agents, such as one for legal advice and another for finance.\n",
    "- A customer support AI that escalates unresolved queries to another AI agent.\n",
    "\n",
    "### 3. Automated Workflow Generation\n",
    "\n",
    "You can orchestrate workflows for AI-driven automation, such as AI-assisted programming, research, and document generation.\n",
    "\n",
    "Example:\n",
    "\n",
    "- Automating software debugging where AI identifies issues, suggests fixes, and verifies solutions.\n",
    "\n",
    "### 4. Supports Human-AI Collaboration\n",
    "\n",
    "AutoGen allows humans to intervene in AI-driven workflows by providing feedback or manually guiding agents when necessary.\n",
    "\n",
    "Example:\n",
    "\n",
    "- A research assistant AI drafts a report, but a human expert refines it.\n",
    "\n",
    "\n",
    "\n",
    "\n",
    "\n",
    "\n"
   ]
  },
  {
   "cell_type": "markdown",
   "id": "6e56d98f-62c4-416d-8f78-800d7fe32085",
   "metadata": {},
   "source": [
    "# Comparison: AutoGen vs Traditional AI Agents\n",
    "\n",
    "<table width=\"60%\" align=\"left\" >\n",
    "        <thead>\n",
    "            <tr>\n",
    "                <th>Feature</th>\n",
    "                <th>Traditional AI Agents</th>\n",
    "                <th>AutoGen AI Agents</th>\n",
    "            </tr>\n",
    "        </thead>\n",
    "        <tbody>\n",
    "            <tr>\n",
    "                <td>Interactivity</td>\n",
    "                <td>Works alone</td>\n",
    "                <td>Collaborates with other agents</td>\n",
    "            </tr>\n",
    "            <tr>\n",
    "                <td>Learning Ability</td>\n",
    "                <td>Static</td>\n",
    "                <td>Adaptive & iterative</td>\n",
    "            </tr>\n",
    "            <tr>\n",
    "                <td>Workflow Handling</td>\n",
    "                <td>Predefined</td>\n",
    "                <td>Dynamic & evolving</td>\n",
    "            </tr>\n",
    "            <tr>\n",
    "                <td>Human Intervention</td>\n",
    "                <td>Limited</td>\n",
    "                <td>Supports human-AI collaboration</td>\n",
    "            </tr>\n",
    "        </tbody>\n",
    "</table>\n"
   ]
  },
  {
   "cell_type": "markdown",
   "id": "1362da2f-0047-4442-a9a1-7cc966959a32",
   "metadata": {},
   "source": [
    "The OpenAI() function initializes an API client object by calling its constructor, which automatically manages API key retrieval.\n",
    "\n",
    "The code_execution_config dictionary is set up to signal to other functions that Docker should not be used during code execution, thus ensuring that your code runs directly on the host environment and avoiding Docker-related issues.\n"
   ]
  },
  {
   "cell_type": "code",
   "execution_count": null,
   "id": "3ddea48e-bc2a-48d0-a7ee-d45d22d08d10",
   "metadata": {},
   "outputs": [],
   "source": [
    "\n",
    "# Initialize OpenAI Client (API Key is automatically managed from environment variables or configured in OpenAI settings)\n",
    "client = OpenAI()\n",
    "\n",
    "# Disable Docker execution to prevent runtime errors\n",
    "code_execution_config = {\"use_docker\": False}"
   ]
  },
  {
   "cell_type": "markdown",
   "id": "da9bd10f-e6c2-448c-bbe8-4a11893b6d88",
   "metadata": {},
   "source": [
    "# How AutoMed Works: Multi-Agent AI in Action\n",
    "When a user interacts with AutoMed, the system does not simply generate a response—it triggers a team of AI agents, each with a specific role in processing the query. These agents collaborate in real-time, cross-validating and optimizing their responses to ensure accuracy and reliability.\n",
    "\n",
    "For example, consider a patient experiencing persistent headaches and fatigue. Instead of offering generic advice, AutoMed intelligently activates multiple specialized AI agents:\n",
    "\n",
    "1. **Patient Agent** – Collects user symptoms, medical history, and any ongoing treatments.\n",
    "2. **Symptom Analyzer Agent** – Evaluates potential conditions such as migraines, dehydration, or anemia based on AI-driven medical knowledge.\n",
    "3. **Pharmacy Agent** – Suggests remedies, over-the-counter medications, and when to seek professional medical attention.\n",
    "4.  **Consultation Advisor Agent** (Decides if a doctor visit is needed) – Fetches real-time updates from trusted healthcare medical research papers.\n",
    "\n",
    "These agents work seamlessly together, analyzing, validating, and optimizing their recommendations to deliver the most relevant, personalized, and up-to-date medical guidance. The collaborative approach ensures that users receive a well-rounded medical consultation experience, similar to interacting with multiple healthcare professionals at once, but through an AI-driven, automated system.\n"
   ]
  },
  {
   "cell_type": "markdown",
   "id": "6d68afe3-da9c-40a3-a6a6-11f71c2f6cb8",
   "metadata": {},
   "source": [
    "### Why is GPT-4o Used?\n",
    "GPT-4o is well-suited for:\n",
    "- Understanding medical symptoms\n",
    "- Generating detailed, human-like responses\n",
    "- Providing accurate condition suggestions based on user input\n"
   ]
  },
  {
   "cell_type": "code",
   "execution_count": null,
   "id": "9126c926-80cc-49d3-b5de-304732feef2a",
   "metadata": {},
   "outputs": [],
   "source": [
    "# Sample LLM Configuration (Replace with actual API keys/config if needed)\n",
    "llm_config = {\"config_list\": [{\"model\": \"gpt-4\", \"api_key\": None}]}  # Replace with real API key"
   ]
  },
  {
   "cell_type": "markdown",
   "id": "4986e892-fbca-4e35-9934-f95ca3b567d5",
   "metadata": {},
   "source": [
    "Now, let's understand the parameters:\n",
    "- llm_config={\"model\": \"gpt-4o\", \"api_key\": None} : This configures the Large Language Model (LLM) that powers the Diagnosis Agent.\n",
    "- \"model\": \"gpt-4o\" → Specifies that the agent is using OpenAI’s GPT-4o to generate responses.\n",
    "- \"api_key\": None → This suggests that the OpenAI API key is not explicitly defined here and is likely set elsewhere in the system configuration- which is provided here by Skills Network. You need an active API key if you plan to run the project outside the CognitiveClass platform.\n"
   ]
  },
  {
   "cell_type": "markdown",
   "id": "77380b1d-1589-469a-9ed6-d8fb8e4b3403",
   "metadata": {},
   "source": [
    "## What is  ConversableAgent?\n",
    "- Represents an AI agent that can engage in conversations.\n",
    "- Each agent has a specific role, defined by its system message.\n",
    "- Uses LLM (Language Model) configurations to process responses.\n",
    "\n",
    " Here, each agent is assigned a specific role, allowing structured communication between AI agents and the user.\n",
    "- The patient_agent represents the user and is responsible for describing symptoms and requesting medical assistance, but it does not process responses.\n",
    "- The diagnosis_agent analyzes the symptoms provided by the patient and generates a concise diagnosis in a single response, ensuring clarity and brevity.\n",
    "- The pharmacy_agent follows up on the diagnosis by recommending medications, but it is restricted to responding only once to prevent unnecessary repetition.\n",
    "- The consultation_agent plays a critical role in determining whether the patient needs to visit a doctor, providing a final summary of the consultation along with clear next steps. To ensure structured conversation flow, the consultation_agent includes a termination condition by adding \"CONSULTATION_COMPLETE\" to its response, signaling the end of the consultation session. All agents are configured with the llm_config, which specifies the underlying language model (GPT-4) for processing responses. This structured setup allows for an efficient and logical multi-agent conversation, ensuring that the patient receives a diagnosis, medication recommendations, and a final decision on whether further medical consultation is necessary.\n"
   ]
  },
  {
   "cell_type": "code",
   "execution_count": null,
   "id": "749ffb2e-702d-428a-be13-68130277ca9b",
   "metadata": {},
   "outputs": [],
   "source": [
    "\n",
    "# Step 1: Create AI Agents with Defined Roles\n",
    "patient_agent = ConversableAgent(\n",
    "    name=\"patient\", \n",
    "    system_message=\"You describe symptoms and ask for medical help.\", \n",
    "    llm_config=llm_config\n",
    ")\n",
    "\n",
    "diagnosis_agent = ConversableAgent(\n",
    "    name=\"diagnosis\", \n",
    "    system_message=\"You analyze symptoms and provide a possible diagnosis. Summarize key points in one response.\", \n",
    "    llm_config=llm_config\n",
    ")\n",
    "\n",
    "pharmacy_agent = ConversableAgent(\n",
    "    name=\"pharmacy\", \n",
    "    system_message=\"You recommend medications based on diagnosis. Only respond once.\", \n",
    "    llm_config=llm_config\n",
    ")\n",
    "\n",
    "consultation_agent = ConversableAgent(\n",
    "    name=\"consultation\", \n",
    "    system_message=\"You determine if a doctor's visit is required. Provide a final summary with clear next steps. IMPORTANT: End your response with 'CONSULTATION_COMPLETE' to signal the end of the conversation.\", \n",
    "    llm_config=llm_config\n",
    ")\n"
   ]
  },
  {
   "cell_type": "markdown",
   "id": "cadf3a24-20d4-4e63-994c-a55bb3f92b56",
   "metadata": {},
   "source": [
    "## What is GroupChat?\n",
    "\n",
    "- Manages a structured conversation between multiple AI agents\n",
    "- Ensures turn-based speaking using speaker selection methods (e.g., round_robin)\n",
    "- Prevents infinite loops by using max_round\n",
    "\n",
    "The GroupChat class structures the interaction between multiple AI agents, ensuring a logical conversation flow. Below is a breakdown of each parameter used in the code:\n",
    "\n",
    "- agents=[diagnosis_agent, pharmacy_agent, consultation_agent]\n",
    "    - Specifies the AI agents participating in the conversation.\n",
    "    - The diagnosis agent analyzes symptoms, the pharmacy agent recommends medications, and the consultation agent determines if a doctor's visit is necessary.\n",
    "    - The patient agent only initiates the conversation and does not actively participate in the group chat.\n",
    "- messages=[]\n",
    "    - Initializes the conversation with an empty list of messages.\n",
    "    - Ensures that no previous data is retained, making each consultation independent.\n",
    "- max_round=5\n",
    "    - Limits the conversation to five full cycles through all agents.\n",
    "    - Prevents infinite loops by restricting the number of exchanges.\n",
    "    - Ensures the conversation remains efficient and focused.\n",
    "- speaker_selection_method=\"round_robin\"\n",
    "    - Controls the order in which agents respond.\n",
    "    - Uses a \"round-robin\" approach, meaning each agent takes turns speaking in a structured sequence.\n",
    "    - Prevents repetition or chaotic interactions, ensuring each agent contributes in a logical order.\n"
   ]
  },
  {
   "cell_type": "code",
   "execution_count": null,
   "id": "a83d3861-0444-4d02-9413-5bc2c86cf695",
   "metadata": {},
   "outputs": [],
   "source": [
    "# Step 2: Create GroupChat for Structured Interaction\n",
    "groupchat = GroupChat(\n",
    "    agents=[diagnosis_agent, pharmacy_agent, consultation_agent],  # Patient only initiates\n",
    "    messages=[], \n",
    "    max_round=5,  # Limits conversation to 5 rounds\n",
    "    speaker_selection_method=\"round_robin\"  # Ensures structured conversation flow\n",
    ")"
   ]
  },
  {
   "cell_type": "markdown",
   "id": "0c510d64-00d1-41a1-9748-7623d39bb2bf",
   "metadata": {},
   "source": [
    "GroupChatManager\n",
    "\n",
    "- Controls the execution of GroupChat\n",
    "- Ensures messages flow between agents in an organized manner\n",
    "- Acts as the conversation coordinator\n",
    "- Coordinates the multi-agent conversation\n",
    "\n",
    "It has two parameters. Let's understand both parameters.\n",
    "- name=\"manager\"\n",
    "    - Assigns a name to the GroupChatManager.\n",
    "    - The name \"manager\" represents the AI-driven entity responsible for orchestrating the conversation between agents.\n",
    "- groupchat=groupchat\n",
    "    - Connects the manager to a predefined GroupChat instance.\n",
    "    - The groupchat parameter contains all agents, including the diagnosis agent, pharmacy agent, and consultation agent.\n",
    "    - Ensures that all messages and responses follow the structured flow defined in the GroupChat.\n"
   ]
  },
  {
   "cell_type": "code",
   "execution_count": null,
   "id": "f8ae1026-16d0-4353-ace3-0308d6aeb579",
   "metadata": {},
   "outputs": [],
   "source": [
    "# Step 3: Create GroupChatManager to Handle Conversation\n",
    "manager = GroupChatManager(name=\"manager\", groupchat=groupchat)"
   ]
  },
  {
   "cell_type": "markdown",
   "id": "64b1e05f-46aa-49e1-beea-7332e65e7b7e",
   "metadata": {},
   "source": [
    "- patient_agent.initiate_chat() starts the conversation by sending a message to the AI system.\n",
    "- manager (GroupChatManager) coordinates the conversation flow.\n",
    "- The message string dynamically includes the user-provided symptoms.\n"
   ]
  },
  {
   "cell_type": "code",
   "execution_count": null,
   "id": "888816d7-bc01-4a80-97ed-bb971d2894cc",
   "metadata": {},
   "outputs": [],
   "source": [
    "# Step 4: Get Patient Input and Start Consultation\n",
    "print(\"\\n🤖 Welcome to the AI Healthcare Consultation System!\")\n",
    "symptoms = input(\"🩺 Please describe your symptoms: \")\n",
    "\n",
    "print(\"\\n🩺 Diagnosing symptoms...\")\n",
    "response = patient_agent.initiate_chat(\n",
    "    manager, \n",
    "    message=f\"I am feeling {symptoms}. Can you help?\",\n",
    ")"
   ]
  },
  {
   "cell_type": "markdown",
   "id": "e9340e31-8fdd-4aff-9ef4-abc812e70874",
   "metadata": {},
   "source": [
    "## Exercise: Create a Mental Health Chatbot Using the AutoGen Library\n",
    "\n",
    "<table border=\"1\" cellspacing=\"0\" align=\"left\">\n",
    "    <thead>\n",
    "        <tr>\n",
    "            <th>Agent</th>\n",
    "            <th>Role</th>\n",
    "        </tr>\n",
    "    </thead>\n",
    "    <tbody>\n",
    "        <tr>\n",
    "            <td><strong>Patient Agent</strong></td>\n",
    "            <td>Captures user input (mood, stress level, emotional concerns).</td>\n",
    "        </tr>\n",
    "        <tr>\n",
    "            <td><strong>Emotion Analysis Agent</strong></td>\n",
    "            <td>Identifies emotions based on user input.</td>\n",
    "        </tr>\n",
    "        <tr>\n",
    "            <td><strong>Therapy Recommendation Agent</strong></td>\n",
    "            <td>Provides relaxation techniques and coping strategies.</td>\n",
    "        </tr>\n",
    "    </tbody>\n",
    "</table>\n",
    "\n"
   ]
  },
  {
   "cell_type": "code",
   "execution_count": null,
   "id": "83a2404e-819a-4edd-b942-ef52c778fc99",
   "metadata": {},
   "outputs": [],
   "source": [
    "# TODO"
   ]
  },
  {
   "cell_type": "markdown",
   "id": "e7781a81-3b2d-4134-962d-c1693b78cf0d",
   "metadata": {},
   "source": [
    "<details>\n",
    "    <summary>Click here for a sample solution</summary>\n",
    "\n",
    "```python\n",
    "from autogen import ConversableAgent, GroupChat, GroupChatManager\n",
    "\n",
    "# LLM Configuration (Replace None with actual API key if needed) \n",
    "llm_config = {\"config_list\": [{\"model\": \"gpt-4o\", \"api_key\": None}]}  # Provide OpenAI API key if required\n",
    "\n",
    "# Create AI Agents with distinct roles \n",
    "patient_agent = ConversableAgent(\n",
    "    name=\"patient\",\n",
    "    system_message=\"You describe your emotions and mental health concerns.\",\n",
    "    llm_config=llm_config\n",
    ")\n",
    "\n",
    "emotion_analysis_agent = ConversableAgent(\n",
    "    name=\"emotion_analysis\",\n",
    "    system_message=\"You analyze the user's emotions based on their input.\"\n",
    "                   \"Do not provide treatment or self-care advice.\"\n",
    "                   \"Instead, just summarize the dominant emotions they may be experiencing.\",\n",
    "    llm_config=llm_config\n",
    ")\n",
    "\n",
    "therapy_recommendation_agent = ConversableAgent(\n",
    "    name=\"therapy_recommendation\",\n",
    "    system_message=\"You suggest relaxation techniques and self-care methods\"\n",
    "                   \"only based on the analysis from the Emotion Analysis Agent.\"\n",
    "                   \"Do not analyze emotions—just give recommendations based on the prior response.\",\n",
    "    llm_config=llm_config\n",
    ")\n",
    "\n",
    "# Create GroupChat for AI Agents \n",
    "groupchat = GroupChat(\n",
    "    agents=[emotion_analysis_agent, therapy_recommendation_agent],\n",
    "    messages=[], \n",
    "    max_round=3,  # Ensures the conversation does not stop too early \n",
    "    speaker_selection_method=\"round_robin\"\n",
    ")\n",
    "\n",
    "# Create GroupChatManager \n",
    "manager = GroupChatManager(name=\"manager\", groupchat=groupchat)\n",
    "\n",
    "# Function to start the chatbot interaction \n",
    "def start_mental_health_chat():\n",
    "    \"\"\"Runs a chatbot for mental health support with distinct agent roles.\"\"\" \n",
    "    print(\"\\nWelcome to the AI Mental Health Chatbot!\") \n",
    "    user_feelings = input(\"How are you feeling today?\")\n",
    "\n",
    "    # Initiate conversation\n",
    "    print(\"\\nAnalyzing emotions...\")\n",
    "    response = patient_agent.initiate_chat(\n",
    "        manager, \n",
    "        message=f\"I have been feeling {user_feelings}. Can you help?\"\n",
    "    )\n",
    "\n",
    "    # Ensure the therapy agent gets triggered\n",
    "    if not response:  # If the initial response is empty, retry with explicit therapy agent prompt\n",
    "        response = therapy_recommendation_agent.initiate_chat(\n",
    "            manager, \n",
    "            message=\"Based on the user's emotions, please provide therapy recommendations.\"\n",
    "        )\n",
    "\n",
    "# Run the chatbot \n",
    "start_mental_health_chat()\n"
   ]
  },
  {
   "cell_type": "code",
   "execution_count": null,
   "id": "34ff8bdb-43b8-4e66-b30c-5081a6e9b7c0",
   "metadata": {},
   "outputs": [],
   "source": []
  },
  {
   "cell_type": "markdown",
   "metadata": {},
   "source": [
    "## Quickstart: Run Order and Tips\n",
    "\n",
    "- **1. Install dependencies**:\n",
    "```bash\n",
    "pip install autogen==0.7 openai==1.64.0 python-dotenv==1.1.0\n",
    "```\n",
    "- **2. Set OpenAI API key** (recommended: `.env` in project root):\n",
    "```bash\n",
    "# .env\n",
    "OPENAI_API_KEY=sk-...\n",
    "```\n",
    "- **3. Run Imports** (warnings are already suppressed).\n",
    "- **4. Verify LLM config** uses GPT-4o:\n",
    "```python\n",
    "llm_config = {\"config_list\": [{\"model\": \"gpt-4o\", \"api_key\": None}]}\n",
    "```\n",
    "- **5. Create agents** (patient, diagnosis, pharmacy, consultation).\n",
    "- **6. Create GroupChat and GroupChatManager** (round_robin, max_round=5).\n",
    "- **7. Start consultation** and enter symptoms when prompted.\n",
    "\n",
    "Notes:\n",
    "- If you get install/kernel issues, restart the kernel and rerun.\n",
    "- The consultation ends when the consultation agent outputs `CONSULTATION_COMPLETE`.\n"
   ]
  }
 ],
 "metadata": {
  "kernelspec": {
   "display_name": "venv",
   "language": "python",
   "name": "python3"
  },
  "language_info": {
   "codemirror_mode": {
    "name": "ipython",
    "version": 3
   },
   "file_extension": ".py",
   "mimetype": "text/x-python",
   "name": "python",
   "nbconvert_exporter": "python",
   "pygments_lexer": "ipython3",
   "version": "3.12.2"
  },
  "prev_pub_hash": "2310aba3d34f3b13dd1319b8e1453cb1e77870e4c72597baa112f0117aee1a74"
 },
 "nbformat": 4,
 "nbformat_minor": 4
}
